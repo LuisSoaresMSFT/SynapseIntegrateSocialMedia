{
  "cells": [
    {
      "cell_type": "code",
      "source": [
        "%%pyspark\r\n",
        "df = spark.read.load('abfss://filesystem001@mydatalake.dfs.core.windows.net/socialmedia/runs/YouTube/getVideoStats-2021-04-23T12:37:12.2853807Z.parquet', format='parquet')\r\n",
        "display(df)"
      ],
      "outputs": [],
      "execution_count": 16,
      "metadata": {
        "microsoft": {
          "language": "python"
        },
        "collapsed": false
      }
    },
    {
      "cell_type": "code",
      "source": [
        "%%pyspark\r\n",
        "from pyspark.sql.functions import from_json, col\r\n",
        "from pyspark.sql.types import StructType, StructField, StringType, ArrayType\r\n",
        "\r\n",
        "statistics_schema = StructType([\r\n",
        "    StructField('likeCount', StringType(), True)\r\n",
        "])\r\n",
        "\r\n",
        "items_schema = StructType([\r\n",
        "    StructField('id',      StringType(), True),\r\n",
        "    StructField('statistics', statistics_schema, True)\r\n",
        "])\r\n",
        "\r\n",
        "schema = StructType([\r\n",
        "    StructField('kind',  StringType(),            True),\r\n",
        "    StructField('etag',  StringType(),            True),\r\n",
        "    StructField('items', ArrayType(items_schema), True)\r\n",
        "\r\n",
        "])\r\n",
        "\r\n",
        "display(\r\n",
        "    df.withColumn('kind',     from_json(col('VALUE_COLUMN'), schema).getItem('kind'))\r\n",
        "      .withColumn('etag',     from_json(col('VALUE_COLUMN'), schema).getItem('etag'))\r\n",
        "      .withColumn('video_id', from_json(col('VALUE_COLUMN'), schema).getItem('items')[0].getItem('id'))\r\n",
        "      .withColumn('likes',    from_json(col('VALUE_COLUMN'), schema).getItem('items')[0].getItem('statistics').getItem('likeCount'))\r\n",
        "      .select('kind', 'etag', 'video_id', 'likes')\r\n",
        ")\r\n"
      ],
      "outputs": [],
      "execution_count": 17,
      "metadata": {
        "jupyter": {
          "source_hidden": false,
          "outputs_hidden": false
        },
        "nteract": {
          "transient": {
            "deleting": false
          }
        },
        "microsoft": {
          "language": "python"
        },
        "collapsed": false
      }
    },
    {
      "cell_type": "code",
      "source": [
        "%%pyspark\r\n",
        "df.write.mode(\"overwrite\").saveAsTable(\"default.youtube_video_likes\")"
      ],
      "outputs": [],
      "execution_count": 18,
      "metadata": {
        "jupyter": {
          "source_hidden": false,
          "outputs_hidden": false
        },
        "nteract": {
          "transient": {
            "deleting": false
          }
        },
        "microsoft": {
          "language": "python"
        },
        "collapsed": true
      }
    },
    {
      "cell_type": "code",
      "source": [
        "%%sql\r\n",
        "SELECT get_json_object(VALUE_COLUMN, '$.kind') as `kind`,\r\n",
        "       get_json_object(VALUE_COLUMN, '$.etag') as `etag`,\r\n",
        "       get_json_object(VALUE_COLUMN, '$.items[0].id') as `videoId`,\r\n",
        "       get_json_object(VALUE_COLUMN, '$.items[0].statistics.likeCount') as `likes`\r\n",
        "FROM default.youtube_video_likes"
      ],
      "outputs": [],
      "execution_count": 19,
      "metadata": {
        "jupyter": {
          "source_hidden": false,
          "outputs_hidden": false
        },
        "nteract": {
          "transient": {
            "deleting": false
          }
        },
        "microsoft": {
          "language": "sparksql"
        },
        "collapsed": false
      }
    }
  ],
  "metadata": {
    "kernelspec": {
      "name": "synapse_pyspark",
      "display_name": "python"
    },
    "language_info": {
      "name": "python"
    },
    "save_output": true,
    "synapse_widget": {
      "version": "0.1",
      "state": {}
    }
  },
  "nbformat": 4,
  "nbformat_minor": 2
}